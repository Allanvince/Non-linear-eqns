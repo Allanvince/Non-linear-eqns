{
 "cells": [
  {
   "attachments": {},
   "cell_type": "markdown",
   "metadata": {},
   "source": []
  },
  {
   "attachments": {},
   "cell_type": "markdown",
   "metadata": {},
   "source": [
    "# Pythton code for Non-linear equations\n",
    "ALLAN VINCENT\n",
    "\n",
    "SCT211-0025/2021\n",
    "## BISECTION METHOD\n",
    "\n",
    "1. Choose an interval $[a,b]$ such that $f(a)$ and $f(b)$ are opposite signs.\n",
    "2.  Compute the mid-point $\\left(\\frac{a+b}{2}\\right)$.\n",
    "3. Evaluate $f(c).$ If $f(c) = 0$ then $c=root$ of $f(x)$.\n",
    "4. If $f(c)$ and $f(a)$ have opposite signs then the root of the interval $[a,c]$ set $b=c$.\n",
    "5. Repeat step 2.\n",
    "6. If $f(c)$ and $f(b)$ have opposite signs, then the root is in the interval $[c,b]$ set $a=c$. If the maximum number of intervals is reached or interval is too small; terminate.\n",
    "\n",
    "## NEWTON_RAPHSON METHOD\n",
    "1. Choose $X_{0}$.\n",
    "2. Evaluate the function $X_{1}$ and its derivatives $f(x)$ at $X_{0}$.\n",
    "3. Compute the next approximation $X_{n+1} = X_{n} - \\frac{f(X_{n})}{f^{1}(X_{n})}$.\n",
    "4. If absolute value $f(X_{n+1}) < tolerance$ then $f(X_{n+1}) = root$ of $f(x)$ terminate. Otherwise set $X_{n}= X_{n+1}$ and go to step two."
   ]
  }
 ],
 "metadata": {
  "kernelspec": {
   "display_name": "Python 3",
   "language": "python",
   "name": "python3"
  },
  "language_info": {
   "name": "python",
   "version": "3.11.1 (tags/v3.11.1:a7a450f, Dec  6 2022, 19:58:39) [MSC v.1934 64 bit (AMD64)]"
  },
  "orig_nbformat": 4,
  "vscode": {
   "interpreter": {
    "hash": "5238573367df39f7286bb46f9ff5f08f63a01a80960060ce41e3c79b190280fa"
   }
  }
 },
 "nbformat": 4,
 "nbformat_minor": 2
}
